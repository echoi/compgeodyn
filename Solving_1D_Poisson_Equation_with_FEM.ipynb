{
 "cells": [
  {
   "cell_type": "markdown",
   "metadata": {},
   "source": [
    "<a target=\"_blank\" href=\"https://colab.research.google.com/github/echoi/compgeodyn/blob/master/Solving_1D_Poisson_Equation_with_FEM.ipynb\">\n",
    "  <img src=\"https://colab.research.google.com/assets/colab-badge.svg\" alt=\"Open In Colab\"/>\n",
    "</a>"
   ]
  },
  {
   "cell_type": "markdown",
   "metadata": {
    "slideshow": {
     "slide_type": "slide"
    }
   },
   "source": [
    "# Solving Poisson equation in 1D with FEM\n"
   ]
  },
  {
   "cell_type": "markdown",
   "metadata": {
    "slideshow": {
     "slide_type": "subslide"
    }
   },
   "source": [
    "Given $f: \\Omega \\rightarrow \\mathbb{R}$, $g: \\Gamma_{g} \\rightarrow \\mathbb{R}$, and $h: \\Gamma_{h} \\rightarrow \\mathbb{R}$, where $\\Gamma_g \\cap \\Gamma_h = \\varnothing$ and $\\Gamma_g \\cup \\Gamma_h = \\partial \\Omega$, \n",
    "\n",
    "find $u: \\bar{\\Omega} \\rightarrow \\mathbb{R}$ such that\n",
    "\n",
    "\\begin{equation*}\n",
    "\\text{(D)} \\qquad \\left.\\begin{aligned}\n",
    "&-\\Delta u(\\mathbf{x}) = f(\\mathbf{x}) \\quad \\text{ in } \\Omega,\\\\\n",
    "& u=g(\\mathbf{x})\\ \\text{ on } \\Gamma_{g}, \\\\\n",
    "& u_n = \\nabla u \\cdot \\mathbf{n} = h(\\mathbf{x})\\ \\text{ on } \\Gamma_{h}\n",
    "\\end{aligned}\n",
    "\\right.\n",
    "\\end{equation*}\n"
   ]
  },
  {
   "cell_type": "markdown",
   "metadata": {
    "slideshow": {
     "slide_type": "subslide"
    }
   },
   "source": [
    "Let $S$ be the trial solution space, $V$ the test function space:\n",
    "\\begin{equation*}\n",
    "\\begin{split}\n",
    "S &= \\left\\{ s | s = g\\ \\text{on}\\ \\Gamma_{g}\\ \\text{and}\\ s \\in H^{1}(\\Omega) \\right\\} \\\\\n",
    "V &= \\left\\{ v | v \\in H^{1}_{0}(\\Omega) \\right\\}.\n",
    "\\end{split}\n",
    "\\end{equation*}\n",
    "\n",
    "\\begin{equation*}\n",
    "\\text{(W)} \\qquad \\text{Find } u \\in S \\text{ such that } a(u,v)=(f,v) + <h,v> \\forall v \\in V,\n",
    "\\end{equation*}\n",
    "where \n",
    "\n",
    "\\begin{equation}\n",
    "  <h,v>=\\int_{\\partial \\Gamma_{h}} h\\,v\\, dS.\n",
    "\\end{equation}"
   ]
  },
  {
   "cell_type": "markdown",
   "metadata": {
    "slideshow": {
     "slide_type": "subslide"
    }
   },
   "source": [
    "- Let $S^{h}$ and $V^{h}$ be finite-dimensional approximation to $S$ and $V$. \n",
    "- Assume for $\\forall v^{h} \\in V^{h}$, $v^{h}|_{\\Gamma_{g}}=0$. \n",
    "- Then, $u^{h} \\in S^{h} = v^{h} + g^{h}$ where $v^{h} \\in V^{h}$ and $g^{h} = g$ on $\\Gamma_{g}$ and 0 otherwise.\n",
    "\n",
    "Given $f$, $g$, and $h$ as in ($D$), \n",
    "\\begin{equation*}\n",
    "\\begin{split}\n",
    "& (\\text{W}_{h}) \\qquad \\text{Find } u^{h} \\in S^{h} \\text{ such that } \\\\\n",
    "& a(w^{h},v^{h})=(f,w^{h}) + <h,w^{h}> - (\\nabla g^{h}, \\nabla w^{h}) \\text{ for } \\forall w^{h} \\in V^{h}.\n",
    "\\end{split}\n",
    "\\end{equation*}"
   ]
  },
  {
   "cell_type": "markdown",
   "metadata": {
    "slideshow": {
     "slide_type": "subslide"
    }
   },
   "source": [
    "## Meaning of *finite-dimensional approximation*\n",
    "\n",
    "- Consider the Fourier expansion of $\\exp(x)$ in $[-\\pi,\\pi]$.\n",
    "\n",
    "$$\n",
    "e^x = \\frac{\\sinh(\\pi)}{\\pi} + \\sum_{n=1}^{\\infty} \\left[ \\frac{2 \\cos(n \\pi) \\sinh(\\pi)}{\\pi (1 + n^2)} \\cos(nx) - \\frac{2n \\cos(n \\pi) \\sinh(\\pi)}{\\pi (1 + n^2)} \\sin(nx) \\right].\n",
    "$$\n",
    "\n",
    "- The key point here is that the equality requires the infinite sum.\n",
    "    - If the sum on the right-hand side is truncated at a **finite number**, the expansion can only **approximate** the exponential function\n",
    "\n",
    "- Also recall the homework questions\n",
    "    - The Taylor seris expansion of $\\sin(\\pi x)$ about $x=0$\n",
    "    - The generalized Fourier series of $\\sin(\\pi x)$ with Legendre polynomials\n",
    "    \n",
    "- With only **finite** terms in these polynomial expansions, they can only **approximate** $\\sin(\\pi x)$.\n"
   ]
  },
  {
   "cell_type": "markdown",
   "metadata": {
    "slideshow": {
     "slide_type": "subslide"
    }
   },
   "source": [
    "### Example 1\n",
    "\n",
    "- Let's write down a cubic polynomial as $a_{0} + a_{1}x + a_{2}x^{2} + a_{3}x^{3}$.\n",
    "- The set of all the cubic polynomials, $P_{3}$, forms a (normed vector) function space (a.k.a. Hilbert space). \n",
    "    - with the L2 inner product, (f,g). \n",
    "    - Look up the web for all the properties required for this type of space!\n",
    "- $P_{3}$ is *infinite* in the sense that it has infinite elements: i.e., infinite choices for the coefficients, $a_{0}$, $a_{1}$, $a_{2}$, and $a_{3}$.\n",
    "- However, $P_{3}$ is **finite (four) dimensional** because any element function in $P_{3}$ can be exactly represented by **four basis functions**: $1$, $x$, $x^2$ and $x^3$; or $L_{0}$, $L_{1}$, $L_{2}$, and $L_{3}$ (Legendre functions); etc."
   ]
  },
  {
   "cell_type": "markdown",
   "metadata": {
    "slideshow": {
     "slide_type": "subslide"
    }
   },
   "source": [
    "### Example 2\n",
    "- $\\sin(\\pi x)$ in $[-1,1]$ can be exactly represented only with infinitely many basis functions. \n",
    "- In that sense, a function space that includes $\\sin(\\pi x)$ must have **infinite dimension**.\n",
    "    - However, $P_{3}[-1,1]$ can be a reasonable **finite dimensional approximation** to that function space."
   ]
  },
  {
   "cell_type": "markdown",
   "metadata": {
    "slideshow": {
     "slide_type": "subslide"
    }
   },
   "source": [
    "- The solution and test function spaces for the weak form,\n",
    "\n",
    "\\begin{equation*}\n",
    "\\begin{split}\n",
    "S &= \\left\\{ s | s = g\\ \\text{on}\\ \\Gamma_{g}\\ \\text{and}\\ s \\in H^{1}(\\Omega) \\right\\}, \\\\\n",
    "V &= \\left\\{ v | v \\in H^{1}_{0}(\\Omega) \\right\\},\n",
    "\\end{split}\n",
    "\\end{equation*}\n",
    "\n",
    "are **infinite dimensional** in the sense that element functions generally require infinitely many basis functions.\n",
    "\n",
    "- Now we understand what it means that **finite element method attemps to find approximate solution in finite dimensional subspaces, $S^{h}$ and $V^{h}$.**\n"
   ]
  },
  {
   "cell_type": "markdown",
   "metadata": {
    "slideshow": {
     "slide_type": "slide"
    }
   },
   "source": [
    "## One idea for finding finite dimensional spaces\n",
    "\n",
    "- This particular idea is a combination of the fundamental contributions form Ritz, Galerkin and Courant (for more details, see Gander and Wenner, SIAM Review, 2012).\n",
    "- Let's start with a suitable spatial discretization of the original problem domain. (cf. the chapter on piecewise polynomial interpolation): e.g.,\n",
    "\n",
    "    Original Domain | Triangulation 1 | Triangulation 2\n",
    "    - | - | -\n",
    "    <img src=\"Figures/Poisson_2D_Domain_original.png\" width=200> | <img src=\"Figures/Poisson_2D_Domain_tris.png\" width=200> | <img src=\"Figures/Poisson_2D_Domain_quads.png\" width=200>\n",
    "    (reproduce these with [this Cubit file](Figures/Poisson_2D_Domain_Discretization.cub5)\n",
    "- We will call a trianguation *a mesh* from now on and proceed with triangle elements, addressing quadrilaterals later."
   ]
  },
  {
   "cell_type": "markdown",
   "metadata": {
    "slideshow": {
     "slide_type": "subslide"
    }
   },
   "source": [
    "- We choose $V^{h}$ as follows:\n",
    "\n",
    "$$ V^{h} = \\left\\{v | v\\text{ is continuous, } v|_{K_j}\\text{ is linear in }^\\forall K_{j} \\in \\mathcal{T}_{h},\\ v|_{\\partial \\Omega} = 0. \\right\\} $$\n",
    "\n",
    "- Also we require the basis functions $\\phi_{j}(\\mathbf{x})$ for $V^{h}$ to have this property: $\\phi_{j}(\\mathbf{x}_{i})=\\delta_{ij}$, where $j=1,\\ldots,M$ and $\\mathbf{x}_{i}$ is the coordinates of $i$-th node of the mesh.\n",
    "- These two choices give us **continuous, piecewise linear** functions with **a compact ($\\equiv$closed and bounded) support**.\n"
   ]
  },
  {
   "cell_type": "code",
   "execution_count": 1,
   "metadata": {},
   "outputs": [
    {
     "data": {
      "image/png": "[encoded data removed]",
      "text/plain": [
       "<Figure size 600x300 with 1 Axes>"
      ]
     },
     "metadata": {},
     "output_type": "display_data"
    }
   ],
   "source": [
    "import matplotlib.pyplot as plt\n",
    "import numpy as np\n",
    "\n",
    "def plot_1d_linear_basis_functions(num_elements):\n",
    "  \"\"\"\n",
    "  Plots 1D linear basis functions for a given number of elements.\n",
    "\n",
    "  Args:\n",
    "    num_elements: The number of elements in the mesh.\n",
    "  \"\"\"\n",
    "\n",
    "  # Generate node coordinates\n",
    "  num_nodes = num_elements + 1\n",
    "  nodes = np.linspace(0, 1, num_nodes)\n",
    "  rnd_dx = np.random.uniform(-0.1, 0.1, size=num_nodes)\n",
    "  rnd_dx[0] = 0.0\n",
    "  rnd_dx[-1] = 0.0\n",
    "  nodes += rnd_dx\n",
    "\n",
    "  # Create figure and axes\n",
    "  fig, ax = plt.subplots(1,1, figsize=(6,3))\n",
    "\n",
    "  # Plot basis functions\n",
    "  for i in range(num_nodes):\n",
    "    x = nodes\n",
    "    y = np.zeros_like(x)\n",
    "    y[i] = 1.0\n",
    "    ax.plot(x, y, '-o', label=f'$\\phi_{i}(x)$')\n",
    "\n",
    "  # Set plot labels and title\n",
    "  ax.set_xlabel('x')\n",
    "  ax.set_ylabel('$\\phi_i(x)$')\n",
    "  ax.set_title('1D Linear Basis Functions')\n",
    "\n",
    "  # Add legend\n",
    "  ax.legend()\n",
    "\n",
    "  # Show plot\n",
    "  plt.show()\n",
    "\n",
    "# Example usage:\n",
    "plot_1d_linear_basis_functions(5)  # Plot basis functions for 4 elements"
   ]
  },
  {
   "cell_type": "markdown",
   "metadata": {
    "slideshow": {
     "slide_type": "subslide"
    }
   },
   "source": [
    "Going back to the Poisson equation in 1D and applying the above idea for a 5-element triangulation, let's derive the approximate weak form in one dimension.\n",
    "- Without loss of generality, we assume the domain to be $[0,1]$.\n",
    "- For simplicity, let's start with the boundary conditions, $u(0)=u(1)=0$.\n",
    "Given $f$, $g$, and $h$ as in ($D$), \n",
    "\\begin{equation*}\n",
    "\\begin{split}\n",
    "& (\\text{W}_{h}) \\qquad \\text{Find } u^{h} = \\sum_{i=1}^{4} u_{i}\\phi_{i}(x) \\text{ such that } \\\\\n",
    "& \\int_{0}^{1} \\frac{du^{h}}{dx}\\frac{dv^{h}}{dx} dx = \\int_{0}^{1}f\\,w^{h}dx, \\quad \\forall v^{h}, w^{h} \\in V^{h}.\n",
    "\\end{split}\n",
    "\\end{equation*}\n",
    "- Note that this trial solution automatically satisfies the given Dirichlet boundary condition."
   ]
  },
  {
   "cell_type": "markdown",
   "metadata": {
    "slideshow": {
     "slide_type": "subslide"
    }
   },
   "source": [
    "By chooing one of the $\\phi_{j}$'s as $v_{h}$ and plugging in the test solution into the approximate/discrete weak form, we get\n",
    "\n",
    "\\begin{equation*}\n",
    "\\int_{0}^{1} \\sum_{i=1}^{4} u_{i}\\frac{d\\phi_{i}(x)}{dx}\\frac{d\\phi_{j}(x)}{dx} dx = \\int_{0}^{1}f\\,\\phi_{j}dx.\n",
    "\\end{equation*}\n",
    "\n",
    "- When $j=1$,\n",
    "\\begin{equation*}\n",
    "u_{1}\\int_{0}^{1} \\frac{d\\phi_{1}(x)}{dx}\\frac{d\\phi_{1}(x)}{dx} dx + \n",
    "u_{2}\\int_{0}^{1} \\frac{d\\phi_{2}(x)}{dx}\\frac{d\\phi_{1}(x)}{dx} dx +\n",
    "u_{3}\\int_{0}^{1} \\frac{d\\phi_{3}(x)}{dx}\\frac{d\\phi_{1}(x)}{dx} dx +\n",
    "u_{4}\\int_{0}^{1} \\frac{d\\phi_{4}(x)}{dx}\\frac{d\\phi_{1}(x)}{dx} dx = \\int_{0}^{1}f\\,\\phi_{1}dx.\n",
    "\\end{equation*}\n",
    "or\n",
    "\\begin{equation*}\n",
    "u_{1} a(\\phi_{1},\\phi_{1}) + \n",
    "u_{2} a(\\phi_{2},\\phi_{1}) + \n",
    "u_{3} a(\\phi_{3},\\phi_{1}) + \n",
    "u_{4} a(\\phi_{4},\\phi_{1})\n",
    "= (f,\\phi_{1}).\n",
    "\\end{equation*}\n",
    "\n",
    "- For $j=$2, 3, and 4,\n",
    "\n",
    "\\begin{equation*}\n",
    "\\begin{split}\n",
    "u_{1} a(\\phi_{1},\\phi_{2}) + \n",
    "u_{2} a(\\phi_{2},\\phi_{2}) + \n",
    "u_{3} a(\\phi_{3},\\phi_{2}) + \n",
    "u_{4} a(\\phi_{4},\\phi_{2})\n",
    "&= (f,\\phi_{2})\\\\\n",
    "u_{1} a(\\phi_{1},\\phi_{3}) + \n",
    "u_{2} a(\\phi_{2},\\phi_{3}) + \n",
    "u_{3} a(\\phi_{3},\\phi_{3}) + \n",
    "u_{4} a(\\phi_{4},\\phi_{3})\n",
    "&= (f,\\phi_{3})\\\\\n",
    "u_{1} a(\\phi_{1},\\phi_{4}) + \n",
    "u_{2} a(\\phi_{2},\\phi_{4}) + \n",
    "u_{3} a(\\phi_{3},\\phi_{4}) + \n",
    "u_{4} a(\\phi_{4},\\phi_{4})\n",
    "&= (f,\\phi_{4})\n",
    "\\end{split}\n",
    "\\end{equation*}\n"
   ]
  },
  {
   "cell_type": "markdown",
   "metadata": {
    "slideshow": {
     "slide_type": "subslide"
    }
   },
   "source": [
    "Finally, we can identify a linear system, which can be denoted as\n",
    "\\begin{equation}\n",
    "\\mathbf{K}\\mathbf{u}=\\mathbf{f},\n",
    "\\end{equation}\n",
    "where $K_{ij} = a(\\phi_{i},\\phi_{j})$ and $f_{i} = (f,\\phi_{i})$.\n",
    "\n",
    "- Note that we used the fact that $a(\\phi_{i},\\phi_{j})=a(\\phi_{j},\\phi_{i})$.\n",
    "\n",
    "- You can employ your favorite linear system solver to get the solution vector, $\\mathbf{u}$."
   ]
  },
  {
   "cell_type": "markdown",
   "metadata": {
    "slideshow": {
     "slide_type": "slide"
    }
   },
   "source": [
    "## Complete workout\n",
    "\n",
    "<img src=\"Figures/Poisson_1D_examle_domain.png\" width=600>\n",
    "\n",
    "- The 1-D domain has been generalized to $[x0, x5]$ but is still discretized to 5 elements. \n",
    "- For simplicity, the Dirichlet boundary conditions are applied: $u(x_{0})=u(x_{5})=0$."
   ]
  },
  {
   "cell_type": "markdown",
   "metadata": {
    "slideshow": {
     "slide_type": "subslide"
    }
   },
   "source": [
    "<img src=\"Figures/Poisson_1D_examle_domain.png\" width=400>\n",
    "\n",
    "\n",
    "After working out the piecewise expressions for $\\phi_{i}$'s and $\\phi_{i}^{\\prime}$'s, we get the following linear system:\n",
    "$$\n",
    "\\begin{pmatrix}\n",
    "\\frac{1}{x_{1}-x_{0}}+\\frac{1}{x_{2}-x_{1}} & -\\frac{1}{x_{2}-x_{1}} & 0  & 0 \\\\\n",
    "-\\frac{1}{x_{2}-x_{1}} & \\frac{1}{x_{2}-x_{1}}+\\frac{1}{x_{3}-x_{2}} & -\\frac{1}{x_{3}-x_{2}} & 0 \\\\\n",
    "0 & -\\frac{1}{x_{3}-x_{2}} & \\frac{1}{x_{3}-x_{2}}+\\frac{1}{x_{4}-x_{3}} & -\\frac{1}{x_{4}-x_{3}} \\\\\n",
    "0 & 0 & -\\frac{1}{x_{4}-x_{3}} & \\frac{1}{x_{4}-x_{3}}+\\frac{1}{x_{5}-x_{4}}\\\\\n",
    "\\end{pmatrix}\n",
    "\\begin{pmatrix}\n",
    "u_{1} \\\\\n",
    "u_{2} \\\\\n",
    "u_{3} \\\\\n",
    "u_{4}\n",
    "\\end{pmatrix}\n",
    "=\n",
    "\\begin{pmatrix}\n",
    "(f,\\phi_{1})_{K_{0} \\cup K_{1}} \\\\\n",
    "(f,\\phi_{2})_{K_{1} \\cup K_{2}} \\\\\n",
    "(f,\\phi_{3})_{K_{2} \\cup K_{3}} \\\\\n",
    "(f,\\phi_{4})_{K_{3} \\cup K_{4}}\n",
    "\\end{pmatrix}\n",
    "$$"
   ]
  },
  {
   "cell_type": "markdown",
   "metadata": {
    "slideshow": {
     "slide_type": "subslide"
    }
   },
   "source": [
    "<img src=\"Figures/Poisson_1D_examle_domain_source.png\" width=400>\n",
    "\n",
    "When the source function, $f(x)$, is given as $f(x)=f_{0}\\delta(x-x_{1})$ and the element sizes are all equal ($h$), the above linear system becomes:\n",
    "\n",
    "$$\n",
    "\\frac{1}{h}\n",
    "\\left(\n",
    "\\begin{array}{rrrr}\n",
    "2 & -1 & 0  & 0 \\\\\n",
    "-1 & 2 & -1 & 0 \\\\\n",
    "0 & -1 & 2 & -1 \\\\\n",
    "0 & 0 & -1 & 2 \\\\\n",
    "\\end{array}\n",
    "\\right)\n",
    "\\begin{pmatrix}\n",
    "u_{1} \\\\\n",
    "u_{2} \\\\\n",
    "u_{3} \\\\\n",
    "u_{4}\n",
    "\\end{pmatrix}\n",
    "=\n",
    "\\begin{pmatrix}\n",
    "2f_{0} \\\\\n",
    "0 \\\\\n",
    "0 \\\\\n",
    "0\n",
    "\\end{pmatrix}\n",
    "$$"
   ]
  },
  {
   "cell_type": "markdown",
   "metadata": {
    "slideshow": {
     "slide_type": "subslide"
    }
   },
   "source": [
    "<img src=\"Figures/Poisson_1D_examle_domain_source.png\" width=400>\n",
    "\n",
    "We can easily compute the solutions for the above linear system. Now, let's try to derive the analytic solution to the original boundary value problem for the given source function. We will assume $h=1$ and thus the domain is $[0,5]$. Then, the point source of the unit magnitude (i.e., $f_0=1$) is located at $x=1$.\n",
    "\n",
    "$$\n",
    "\\begin{eqnarray}\n",
    "-u_{xx} &= \\delta(x-1) \\\\\n",
    "u(0) &= u(5) = 0.\n",
    "\\end{eqnarray}\n",
    "$$"
   ]
  },
  {
   "cell_type": "markdown",
   "metadata": {
    "slideshow": {
     "slide_type": "subslide"
    }
   },
   "source": [
    "<img src=\"Figures/Poisson_1D_examle_domain_solution.png\" width=400>\n",
    "\n",
    "Let's try to derive the analytic solution to the original boundary value problem for the source function given above. We will assume $h=1$ and thus the domain is $[0,5]$. Then, the point source of the unit magnitude is located at $x=1$.\n",
    "\n",
    "$$\n",
    "\\begin{eqnarray}\n",
    "-u_{xx} &= \\delta(x-1) \\\\\n",
    "u(0) &= u(5) = 0.\n",
    "\\end{eqnarray}\n",
    "$$\n"
   ]
  },
  {
   "cell_type": "markdown",
   "metadata": {
    "slideshow": {
     "slide_type": "subslide"
    }
   },
   "source": [
    "By integrating once, the delta function on the r.h.s. becomes a Heaviside function:\n",
    "\n",
    "$$\n",
    "\\begin{array}{lll}\n",
    "u_{x} &= C_{1}     &\\text{ for } 0 \\le x < 1 \\\\\n",
    "u_{x} &= 1 + C_{1} &\\text{ for } x \\ge 1.\n",
    "\\end{array}\n",
    "$$\n",
    "\n",
    "Integrating once more,\n",
    "$$\n",
    "\\begin{array}{lll}\n",
    "u_{x} &= C_{1}x + C_{2}         &\\text{ for } 0 \\le x < 1 \\\\\n",
    "u_{x} &= (1 + C_{1})x + (C_2-1) &\\text{ for } x \\ge 1,\n",
    "\\end{array}\n",
    "$$\n",
    "where the continuity at $x=1$ has been applied.\n",
    "\n",
    "By applying the boundary conditions, $u(0)=u(5)=0$, we get\n",
    "$$\n",
    "\\begin{array}{lll}\n",
    "u(x) &= \\frac{4}{5}x      &\\text{ for } 0 \\le x \\le 1 \\\\\n",
    "u(x) &= -\\frac{1}{5}x + 1 &\\text{ for } x > 1.\n",
    "\\end{array}\n",
    "$$\n",
    "\n",
    "\n"
   ]
  }
 ],
 "metadata": {
  "celltoolbar": "Slideshow",
  "kernelspec": {
   "display_name": "Python 3 (ipykernel)",
   "language": "python",
   "name": "python3"
  },
  "language_info": {
   "codemirror_mode": {
    "name": "ipython",
    "version": 3
   },
   "file_extension": ".py",
   "mimetype": "text/x-python",
   "name": "python",
   "nbconvert_exporter": "python",
   "pygments_lexer": "ipython3",
   "version": "3.10.12"
  },
  "vscode": {
   "interpreter": {
    "hash": "916dbcbb3f70747c44a77c7bcd40155683ae19c65e1c03b4aa3499c5328201f1"
   }
  }
 },
 "nbformat": 4,
 "nbformat_minor": 4
}
