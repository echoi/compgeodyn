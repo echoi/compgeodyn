{
 "cells": [
  {
   "cell_type": "markdown",
   "metadata": {},
   "source": [
    "<a target=\"_blank\" href=\"https://colab.research.google.com/github/echoi/compgeodyn/blob/master/NumericalIntegration.ipynb\">\n",
    "  <img src=\"https://colab.research.google.com/assets/colab-badge.svg\" alt=\"Open In Colab\"/>\n",
    "</a>"
   ]
  },
  {
   "cell_type": "markdown",
   "metadata": {
    "slideshow": {
     "slide_type": "slide"
    }
   },
   "source": [
    "# Numerical Integration formula\n",
    "\n",
    "Also called **quadrature formula**, any explicit formula that is suitable for providing an approximation of \n",
    "\\begin{equation}\n",
    " I(f) = \\int_{a}^{b} f(x) dx.\n",
    "\\end{equation}\n",
    "\n",
    "Continuing the idea of approximating a function with polynomials, i.e., $f \\approx f_{n}$, where $f_{n}$ is a polynomial, the integration of $f$ can be also approximated as\n",
    "\\begin{equation}\n",
    "  I(f) \\approx I_{n}(f) = \\int_{a}^{b} f_{n}(x) dx \\text{ for } n \\ge 0.\n",
    "\\end{equation}"
   ]
  },
  {
   "cell_type": "markdown",
   "metadata": {
    "slideshow": {
     "slide_type": "subslide"
    }
   },
   "source": [
    "- A general quadrature formula is given as\n",
    "    \\begin{equation}\n",
    "      I_{n}(f) = \\sum_{i=0}^{n}\\alpha_{i}f(x_{i}),\n",
    "    \\end{equation}\n",
    "    where $\\alpha_{i}$ are **coefficients** or **weights**.\n",
    "- If $f_{n}$ is an interpolating polynomial, $I_{n}(f)$ can be easily computed.     \n",
    "- For an obvious reason, this quadrature formula is called **interpolatory** quadrature formula."
   ]
  },
  {
   "cell_type": "markdown",
   "metadata": {
    "slideshow": {
     "slide_type": "slide"
    }
   },
   "source": [
    "## Classical integration methods\n",
    "We are already familiar with the idea of quadrature formula. Let's recall the following classical formulae:\n",
    "- Mid-point or rectangle formula\n",
    "\\begin{equation}\n",
    "I_{0}(f) = (b-a)f\\left( \\frac{a+b}{2} \\right)\n",
    "\\end{equation}\n",
    "<img src=\"./Figures/Quarteroni_Fig9.1.PNG\" width=\"1200\">\n"
   ]
  },
  {
   "cell_type": "markdown",
   "metadata": {
    "slideshow": {
     "slide_type": "subslide"
    }
   },
   "source": [
    "- Trapezoidal formula\n",
    "\\begin{equation}\n",
    "I_{1}(f) = \\frac{b-a}{2}[f(a) + f(b)]\n",
    "\\end{equation}\n",
    "- Cavalieri-Simpson formula\n",
    "\\begin{equation}\n",
    "I_{2}(f) = \\frac{b-a}{6}\\left[ f(a) + 4f\\left(\\frac{a+b}{2}\\right)+f(b)\\right]\n",
    "\\end{equation}\n",
    "<img src=\"./Figures/Quarteroni_Fig9.2.PNG\" width=\"1200\">"
   ]
  },
  {
   "cell_type": "markdown",
   "metadata": {
    "slideshow": {
     "slide_type": "subslide"
    }
   },
   "source": [
    "- Newton-Cotes formulae\n",
    "    - Formulae achieved when $f_{n}$ is a Lagrange interpolating polynomial on equally-spaced nodes.\n",
    "    \n",
    "    \\begin{split}\n",
    "      I_{n}(f) &= \\sum_{i=0}^{n}\\alpha_{i}f(x_{i}) \\quad \\text{ and } \\\\\n",
    "      \\alpha_{i} &= \\int_{a}^{b}l_{i}(x)dx\n",
    "    \\end{split}\n",
    "    \n",
    "    - Degree 0, 1 and 2 correspond to mid-point, trapezoidal and Simpson formula, respectively.\n"
   ]
  },
  {
   "cell_type": "markdown",
   "metadata": {
    "slideshow": {
     "slide_type": "slide"
    }
   },
   "source": [
    "## Degree of exactness\n",
    "**Definition**: Degree of exactness of a quadrature formula is the **maximum integer** r ($\\ge 0$) for which $I_{n}(f) = I(f)$ for $^{\\forall}f \\in \\mathbb{P}_{r}$.\n",
    "\n",
    "#### Example\n",
    "Lagrange quadrature formula has the degree of exactness of $n$ when it has $n+1$ nodes."
   ]
  },
  {
   "cell_type": "markdown",
   "metadata": {
    "slideshow": {
     "slide_type": "slide"
    }
   },
   "source": [
    "## Gauss quadrature\n",
    "\n",
    "- Let $x_{0},\\cdots,x_{n}$ be $n+1$ distinct points in $[-1,1]$. \n",
    "- We want to approximate \n",
    "\\begin{equation}\n",
    "I_{w}(f) = \\int_{-1}^{1} f(x)w(x) dx,\n",
    "\\end{equation}\n",
    "with $f \\in \\mathbb{C}^{0}([-1,1])$.\n",
    "- We specifically want a quadrature formula,\n",
    "\\begin{equation}\n",
    "I_{n,w}(f) = \\sum_{i=0}^{n} \\alpha_{i}f(x_{i}).\n",
    "\\end{equation}\n"
   ]
  },
  {
   "cell_type": "markdown",
   "metadata": {
    "slideshow": {
     "slide_type": "subslide"
    }
   },
   "source": [
    "- $E_{n,w}(f) = I_{w}(f) - I_{n,w}(f)$: The error of the quadrature formula.\n",
    "- If $E_{n,w}(p)=0$ for any $p\\in \\mathbb{P}_{r}$ ($r\\ge 0$), we say that the quadrature formula has the degree of exactness $r$ with respect to the weight $w$.\n",
    "- Going back to the **Lagrange interpolation**,\n",
    "\\begin{equation}\n",
    " I_{n,w}(f) = \\int_{-1}^{1} \\Pi_{n}f(x)w(x)dx\n",
    "\\end{equation}\n",
    "has degree of exactness equal to (at least) $n$.\n",
    "- In other words, the quadrature formula has at least $n$ deg. of exact. if $\\alpha_{i} = \\int_{-1}^{1}l_{i}(x)w(x)dx$ for $i=0,\\cdots,n$."
   ]
  },
  {
   "cell_type": "markdown",
   "metadata": {
    "slideshow": {
     "slide_type": "subslide"
    }
   },
   "source": [
    "- The key question is whether suitable choices of the nodes exist such that the deg. of exact. is **greater than**  $n$.\n",
    "- Exactly integrate a polynomial of a degreen greater than $n$ only with $n$ nodes?\n",
    "- It might sound like a petty attempt to cheat but it IS possible!\n"
   ]
  },
  {
   "cell_type": "markdown",
   "metadata": {
    "slideshow": {
     "slide_type": "subslide"
    }
   },
   "source": [
    "### Theorem due to Jacobi\n",
    "$^{\\exists}m>0$, the quadrature formula, $I_{n,w}(f) = \\sum_{i=0}^{n} \\alpha_{i}f(x_{i})$ has deg. of exact. $n+m$ if and only if it is of interpolatory type and the nodal polynomial $\\omega_{n+1}(x) = \\prod_{i=0}^{n}(x-x_{i})$ associated with the nodes $\\{x_{i}\\}$ is $\\int_{-1}^{1} \\omega_{n+1}(x) p(x) w(x) dx = 0$ for $^{\\forall}p \\in \\mathbb{P}_{m-1}$."
   ]
  },
  {
   "cell_type": "markdown",
   "metadata": {
    "slideshow": {
     "slide_type": "subslide"
    }
   },
   "source": [
    "#### Partial proof of the theorem\n",
    "1. Show the conditions are sufficient\n",
    "\n",
    "    - If $f\\in \\mathbb{P}_{n+m}$, then there exist a quotient $\\pi_{m-1} \\in \\mathbb{P}_{m-1}$ and a remainder $q_{n} \\in \\mathbb{P}_{n}$ such that\n",
    "    \\begin{equation}\n",
    "    f = \\omega_{n+1}\\pi_{m-1} + q_{n}.\n",
    "    \\end{equation}\n",
    "    - Since the deg. of exact. of an interpolatory formula with $n+1$ nodes is at least $n$, we get\n",
    "    \\begin{equation}\n",
    "    \\sum_{i=0}^{n}\\alpha_{i}q_{n}(x_{i}) = \\int_{-1}^{1}q_{n}(x)w(x)dx = \\int_{-1}^{1} f(x)w(x)dx - \\int_{-1}^{1} \\omega_{n+1}\\pi_{m-1}w\\,dx.\n",
    "    \\end{equation}\n",
    "    - From the condition, the last term on r.h.s. is zero. Thus\n",
    "    \\begin{equation}\n",
    "    \\int_{-1}^{1}f(x)w(x)dx = \\sum_{i=0}^{n}\\alpha_{i}q_{n}(x_{i}) = \\sum_{i=0}^{n}\\alpha_{i}f(x_{i}).\n",
    "    \\end{equation}\n",
    "        - Note that since $\\omega_{n+1}$ is the nodal polynomial (i.e., $\\omega_{n+1}(x_{i})=0$ for all $i$), $f(x_{i}) = q_{n}(x_{i})$.\n",
    "    - Since $f$ is arbitrary, $E_{n+m}(f)=0$ for any $f \\in \\mathbb{P}_{n+m}$.\n",
    "2. The conditions are also necessary (Quarteroni left it as homework for us.)    "
   ]
  },
  {
   "cell_type": "markdown",
   "metadata": {
    "slideshow": {
     "slide_type": "subslide"
    }
   },
   "source": [
    "- A corollary from the above theorem is that the **maximum deg. of exact.** of the quadrature formula is $2n+1$.\n",
    "- So, for the maximum deg. of exact., we set $m=n+1$: i.e., it is required that\n",
    "\\begin{equation}\n",
    "\\int_{-1}^{1}\\omega_{n+1}(x)p(x)w(x)dx = 0 \\quad ^{\\forall}p \\in \\mathbb{P}_{n}.\n",
    "\\end{equation}\n",
    "- This shows that $\\omega_{n+1}$ is a $n+1$ degree polynomial that is orthogonal to all the polynomials of lower degree.\n",
    "- $\\therefore$ we conclude that $\\omega_{n+1}(x)$ is the monic polynomial multiple of $p_{n+1}(x)$, where $p_{n+1}(x)$ is the $(n+1)$-th element in the system of orthogonal polynomials.\n",
    "- Roots of $\\omega_{n+1}$ coincide with those of $p_{n+1}$: i.e., $p_{n+1}(x_{j})=0$ for $j=0,\\cdots,n$.\n",
    "- We say $\\{x_{i}\\}$ are **Gauss nodes** associated with a weight, $w(x)$."
   ]
  },
  {
   "cell_type": "markdown",
   "metadata": {
    "slideshow": {
     "slide_type": "subslide"
    }
   },
   "source": [
    "In summary, Gauss quadrature formula is given as follows:\n",
    "\\begin{equation}\n",
    " I_{n,w}(f) = \\sum_{i=0}^{n} \\alpha_{i}f(x_{i})\n",
    "\\end{equation}\n",
    "with \n",
    "\\begin{equation}\n",
    " \\alpha_{i} = \\int_{-1}^{1} l_{i}(x)w(x)dx \n",
    "\\end{equation}\n",
    "and the nodes $\\{x_{i} \\}$ are the roots of $p_{n+1}$: i.e., $p_{n+1}(x_{i})=0$ for $i=0,\\cdots,n$."
   ]
  },
  {
   "cell_type": "markdown",
   "metadata": {
    "slideshow": {
     "slide_type": "subslide"
    }
   },
   "source": [
    "#### Example\n",
    "Let's consider 2 point Gauss quadrature formula with $w(x)=1$ when $n=1$.\n",
    "\\begin{equation}\n",
    " I = \\int_{-1}^{1} f(x) dx \\approx \\alpha_{0}f(x_{0}) + \\alpha_{1}f(x_{1}).\n",
    "\\end{equation}\n",
    "- Deg. of exact.  = $2n+1$ = 3.\n",
    "\n",
    "If $f(x) = a_{3}x^{3} + a_{2}x^{2} + a_{1}x + a_{0}$, we get\n",
    "\\begin{equation}\n",
    " \\left[\\frac{a_{3}}{4}x^{4} + \\frac{a_{2}}{3}x^{3} + \\frac{a_{1}}{2}x^{2} + a_{0}x\\right]_{-1}^{1} = \\alpha_{0}\\left(a_{3}x_{0}^{3} + a_{2}x_{0}^{2} + a_{1}x_{0} + a_{0}\\right) + \\alpha_{1}\\left(a_{3}x_{1}^{3} + a_{2}x_{1}^{2} + a_{1}x_{1} + a_{0}\\right).\n",
    "\\end{equation}\n"
   ]
  },
  {
   "cell_type": "markdown",
   "metadata": {
    "slideshow": {
     "slide_type": "subslide"
    }
   },
   "source": [
    "\\begin{equation}\n",
    "\\frac{2}{3}a_{2} + 2a_{0} = \\left( \\alpha_{0}x_{0}^{3} + \\alpha_{1}x_{1}^{3} \\right)a_{3} + \\left( \\alpha_{0}x_{0}^{2} + \\alpha_{1}x_{1}^{2} \\right)a_{2} + \\left( \\alpha_{0}x_{0} + \\alpha_{1}x_{1} \\right)a_{1} + \\left( \\alpha_{0} + \\alpha_{1} \\right)a_{0}\n",
    "\\end{equation}\n",
    "\n",
    "By requiring the equation to hold for any cubic polynomial $f(x)$,\n",
    "\\begin{align}\n",
    "\\alpha_{0}x_{0}^{3} + \\alpha_{1}x_{1}^{3} &= 0 \\\\\n",
    "\\alpha_{0}x_{0}^{2} + \\alpha_{1}x_{1}^{2} &= \\frac{2}{3} \\\\\n",
    "\\alpha_{0}x_{0} + \\alpha_{1}x_{1} &= 0 \\\\\n",
    "\\alpha_{0} + \\alpha_{1} &= 2\n",
    "\\end{align}\n",
    "\n",
    "We've got four equations for four unknowns so can solve the above system of equations. \n",
    "$\\alpha_{0}=1$, $\\alpha_{1}=1$, $x_{0}=-1/\\sqrt{3}$ and $x_{1}=1/\\sqrt{3}$. \n"
   ]
  },
  {
   "cell_type": "markdown",
   "metadata": {
    "slideshow": {
     "slide_type": "subslide"
    }
   },
   "source": [
    "This process of finding the Gauss quadrature formula is much simplified if the Gauss nodes are roots of $p_{n+1}$.\n",
    "\n",
    "Since $n=1$ and $w(x)=1$, the Gauss nodes are the roots of the degree 2 Legendre polynomial:\n",
    "\\begin{equation}\n",
    " p_{2} = L_{2} = \\frac{3}{2}x^{2} - \\frac{1}{2} = 0.\n",
    "\\end{equation}\n",
    "So, the nodes are $\\pm 1/\\sqrt{3}$.\n",
    "Finally, \n",
    "\\begin{equation}\n",
    "l_{0}(x) = \\frac{x-x_{2}}{x_{1}-x_{2}},\\quad l_{1}(x) = \\frac{x-x_{1}}{x_{1}-x_{2}}.\n",
    "\\end{equation}\n",
    "\n",
    "\\begin{align}\n",
    "\\alpha_{0} &= \\int_{-1}^{1}l_{0}(x)dx = \\frac{1}{x_{1}-x_{2}} \\left[ \\frac{1}{2}x^{2} - x_{2}x \\right]_{-1}^{1} = 1 \\\\\n",
    "\\alpha_{1} &= 1.\n",
    "\\end{align}\n"
   ]
  },
  {
   "cell_type": "code",
   "execution_count": 1,
   "metadata": {
    "slideshow": {
     "slide_type": "subslide"
    }
   },
   "outputs": [
    {
     "name": "stdout",
     "output_type": "stream",
     "text": [
      "direct integration: -1.0 \n",
      " quadrature result: -1.0000000000000002\n"
     ]
    },
    {
     "data": {
      "text/plain": [
       "[<matplotlib.lines.Line2D at 0x7f8914c92a70>]"
      ]
     },
     "execution_count": 1,
     "metadata": {},
     "output_type": "execute_result"
    },
    {
     "data": {
      "image/png": "[encoded data removed]",
      "text/plain": [
       "<Figure size 640x480 with 1 Axes>"
      ]
     },
     "metadata": {},
     "output_type": "display_data"
    }
   ],
   "source": [
    "import numpy as np\n",
    "import matplotlib.pyplot as plt\n",
    "\n",
    "def f(a, x):\n",
    "    sum = 0.0\n",
    "    for i in range(4):\n",
    "        sum += a[i]*np.power(x, i)\n",
    "    return sum\n",
    "\n",
    "def fint(a, x):\n",
    "    return a[3]/4.0*x**4 + a[2]/3.0*x**3 + a[1]/2.0*x**2 + a[0]*x\n",
    "\n",
    "def fdint(a, xmin, xmax):\n",
    "    return fint(a,xmax) - fint(a,xmin)\n",
    "\n",
    "a = np.array([0., -0.7, -1.5, 3.0])\n",
    "xmin = -1.0\n",
    "xmax = 1.0\n",
    "fdint(a, xmin, xmax)\n",
    "print('direct integration:',fdint(a, xmin, xmax),'\\n','quadrature result:', f(a, -1.0/np.sqrt(3)) + f(a, 1.0/np.sqrt(3)) )\n",
    "\n",
    "x = np.linspace(xmin, xmax, 101)\n",
    "plt.plot(x, f(a,x))"
   ]
  },
  {
   "cell_type": "markdown",
   "metadata": {
    "slideshow": {
     "slide_type": "slide"
    }
   },
   "source": [
    "## Gauss-Lobatto quadrature\n",
    "- Note that Gauss nodes are well within the integration interval.\n",
    "- However, it is often useful to also include the end points among the quadrature nodes.\n",
    "- So, we require that the Gauss formula with the highest degree of exactness is the one that employs as nodes the $n+1$ roos of the polynomial,\n",
    "\\begin{equation}\n",
    "\\bar{\\omega}_{n+1}(x) = p_{n+1}(x) + ap_{n}(x) + bp_{n-1}(x),\n",
    "\\end{equation}\n",
    "  where $a$ and $b$ are selected such that $\\bar{\\omega}_{n+1}(-1) = \\bar{\\omega}_{n+1}(1) = 0$.\n",
    "    - Now we have only $n-1$ roots to determine.\n",
    "- Denoting these roots by $\\bar{x}_{0}=-1, \\bar{x}_{1},\\ldots,\\bar{x}_{n}=1$, the coefficients ${\\bar{\\alpha}_{i},i=0,\\ldots,n}$ can then be obtained from\n",
    "\\begin{equation}\n",
    "\\bar{\\alpha}_{i} = \\int_{-1}^{1}\\bar{l}_{i}(x)w(x)dx, \\quad i=0,\\ldots,n,\n",
    "\\end{equation}\n",
    "where $\\bar{l}_{i}(x)$ is still the i-th characteristic Lagrange polynomial of degree $n$.\n",
    "- The $n-1$ nodes $\\{\\bar{x}_{i}\\}$ are the roots of $p_{n}'(x)=0$, where $p_{n}(x)$ is the degree $n$ orthogonal polynomial with respect to a given weight function.\n",
    "\n"
   ]
  },
  {
   "cell_type": "markdown",
   "metadata": {
    "slideshow": {
     "slide_type": "subslide"
    }
   },
   "source": [
    "With the above defined nodes $\\{x_{i}\\}$'s and the coefficients $\\{\\alpha_{i}\\}$'s, we get the following **Gauss-Lobatto quadrature formula**:\n",
    "\\begin{equation}\n",
    " I^{GL}_{n,w}(f) = \\sum_{i=0}^{n} \\bar{\\alpha}_{i}f(\\bar{x}_{i}).\n",
    "\\end{equation}\n",
    "\n",
    "- Unlike the Gauss quadrature, the GL quadrature has the deg. of exact. of $2n-1$."
   ]
  },
  {
   "cell_type": "markdown",
   "metadata": {
    "slideshow": {
     "slide_type": "subslide"
    }
   },
   "source": [
    "#### Gauss-Legendre-Lobatto (GLL) quadrature\n",
    "- *Legendre* means $w(x)$=1.\n",
    "\n",
    "For $n \\ge 0$, \n",
    "- the **Gauss** nodes and coefficients are given by\n",
    "\n",
    "    - \\begin{equation} \n",
    "        x_{j}: \\text{ Zeros of } L_{n+1}(x).\n",
    "      \\end{equation}\n",
    "\n",
    "    - \\begin{equation} \n",
    "        \\alpha_{j} = \\frac{2}{(1-x_{j}^{2})[L'_{n+1}(x_{j})]^{2}} \\text{ for } j=0, \\ldots, n. \n",
    "      \\end{equation}\n",
    "\n",
    "- the **Gauss-Legendre-Lobatto** nodes and coefficients are\n",
    "\n",
    "    - \\begin{equation}\n",
    "        \\bar{x}_{0}= -1,\\ \\bar{x}_{n}=1,\\ \\bar{x}_{j}: \\text{Zeros of } L'_{n}(x) \\text{ for } j=1,\\ldots,n-1.\n",
    "      \\end{equation}\n",
    "      \n",
    "    - \\begin{equation}\n",
    "        \\bar{\\alpha}_{j} = \\frac{2}{n(n+1)[L_{n}(x_{j})]^{2}} \\text{ for } j=0, \\ldots, n. \n",
    "      \\end{equation}\n",
    "      \n",
    "- $L_{n}$: Degree $n$ Legendre polynomial."
   ]
  },
  {
   "cell_type": "markdown",
   "metadata": {
    "slideshow": {
     "slide_type": "subslide"
    }
   },
   "source": [
    "#### Verifications\n",
    "1. Deg. of exact. $= 1$\n",
    "    - Gauss: $2n+1=1$, $n=0$ $\\Longrightarrow 1$ node, root of $L_{n+1} = L_{1}$\n",
    "    - GLL: $2n-1=1$, $n=1$ $\\Longrightarrow 2$ nodes, $-1$ and $1$.\n",
    "2. Deg. of exact. $= 3$\n",
    "    - Gauss: $2n+1=3$, $n=1$ $\\Longrightarrow 2$ nodes, roots of $L_{n+1} = L_{2}$\n",
    "    - GLL: $2n-1=3$, $n=2$ $\\Longrightarrow 3$ nodes, root of $L'_{2}$ and $\\pm 1$.\n"
   ]
  },
  {
   "cell_type": "markdown",
   "metadata": {
    "slideshow": {
     "slide_type": "subslide"
    }
   },
   "source": [
    "### Convergence for the integration of general function\n",
    "For a more general $f$ (i.e., not necessarily a polynomial), the Gauss formula has the following convergence property:\n",
    "\\begin{equation}\n",
    "\\lim_{n\\rightarrow +\\infty} \\left\\lvert \\int_{-1}^{1} f(x)w(x) dx - \\sum_{j=0}^{n}\\alpha_{j}f(x_{j}) \\right\\rvert = 0 \\text{ for } ^{\\forall}f \\in \\mathbb{C}^{0}([-1,1]).\n",
    "\\end{equation}\n",
    "\n",
    "- This result holds for the Gauss-Lobatto formula."
   ]
  },
  {
   "cell_type": "markdown",
   "metadata": {
    "slideshow": {
     "slide_type": "subslide"
    }
   },
   "source": [
    "### Integration over an arbitrary interval\n",
    "Let $\\phi:[-1,1] \\rightarrow [a,b]$ be the affine map,\n",
    "\\begin{equation}\n",
    "x = \\phi(\\xi) = \\frac{b-a}{2}\\xi + \\frac{a+b}{2}.\n",
    "\\end{equation}\n",
    "Then,\n",
    "\\begin{align}\n",
    "\\int_{a}^{b} f(x)dx &= \\frac{b-a}{2} \\int_{-1}^{1} (f \\circ \\phi)(\\xi)d\\xi \\\\\n",
    "                    &= \\frac{b-a}{2} \\sum_{j=0}^{n}\\beta_{j} (f \\circ \\phi)(\\xi_{j}) \\\\\n",
    "                    &= \\sum_{j=0}^{n}\\alpha_{j}f(x_{j}),\n",
    "\\end{align}\n",
    "where $\\xi_{j}$ are nodes in $[-1,1]$ and $\\beta_{j}$ are weights on $[-1,1]$.\n",
    "\n",
    "\\begin{equation}\n",
    "\\therefore \\alpha_{j} = \\frac{b-a}{2}\\beta_{j}, \\quad x_{j} = \\phi(\\xi_{j}),\n",
    "\\end{equation}\n",
    "\n",
    "So, **nodes are mapped and weights are scaled.**\n"
   ]
  }
 ],
 "metadata": {
  "celltoolbar": "Slideshow",
  "kernelspec": {
   "display_name": "Python 3 (ipykernel)",
   "language": "python",
   "name": "python3"
  },
  "language_info": {
   "codemirror_mode": {
    "name": "ipython",
    "version": 3
   },
   "file_extension": ".py",
   "mimetype": "text/x-python",
   "name": "python",
   "nbconvert_exporter": "python",
   "pygments_lexer": "ipython3",
   "version": "3.10.12"
  },
  "vscode": {
   "interpreter": {
    "hash": "916dbcbb3f70747c44a77c7bcd40155683ae19c65e1c03b4aa3499c5328201f1"
   }
  }
 },
 "nbformat": 4,
 "nbformat_minor": 4
}
