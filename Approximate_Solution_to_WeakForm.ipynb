{
 "cells": [
  {
   "cell_type": "markdown",
   "metadata": {},
   "source": [
    "<a target=\"_blank\" href=\"https://colab.research.google.com/github/echoi/compgeodyn/blob/master/Approximate_Solution_to_WeakForm.ipynb\">\n",
    "  <img src=\"https://colab.research.google.com/assets/colab-badge.svg\" alt=\"Open In Colab\"/>\n",
    "</a>"
   ]
  },
  {
   "cell_type": "markdown",
   "metadata": {
    "slideshow": {
     "slide_type": "slide"
    }
   },
   "source": [
    "# Approximate Solution to Weak Form\n"
   ]
  },
  {
   "cell_type": "markdown",
   "metadata": {
    "slideshow": {
     "slide_type": "subslide"
    }
   },
   "source": [
    "Given $f: \\Omega \\rightarrow \\mathbb{R}$, $g: \\Gamma_{g} \\rightarrow \\mathbb{R}$, and $h: \\Gamma_{h} \\rightarrow \\mathbb{R}$, where $\\Gamma_g \\cap \\Gamma_h = \\varnothing$ and $\\Gamma_g \\cup \\Gamma_h = \\partial \\Omega$, \n",
    "\n",
    "find $u: \\bar{\\Omega} \\rightarrow \\mathbb{R}$ such that\n",
    "\n",
    "\\begin{equation*}\n",
    "\\text{(D)} \\qquad \\left.\\begin{aligned}\n",
    "&-\\Delta u(\\mathbf{x}) = f(\\mathbf{x}) \\quad \\text{ in } \\Omega,\\\\\n",
    "& u=g(\\mathbf{x})\\ \\text{ on } \\Gamma_{g}, \\\\\n",
    "& u_n = \\nabla u \\cdot \\mathbf{n} = h(\\mathbf{x})\\ \\text{ on } \\Gamma_{h}\n",
    "\\end{aligned}\n",
    "\\right.\n",
    "\\end{equation*}\n"
   ]
  },
  {
   "cell_type": "markdown",
   "metadata": {
    "slideshow": {
     "slide_type": "subslide"
    }
   },
   "source": [
    "Let $S$ be the trial solution space, $V$ the test function space:\n",
    "\\begin{equation*}\n",
    "\\begin{split}\n",
    "S &= \\left\\{ s | s = g\\ \\text{on}\\ \\Gamma_{g}\\ \\text{and}\\ s \\in H^{1}(\\Omega) \\right\\} \\\\\n",
    "V &= \\left\\{ v | v \\in H^{1}_{0}(\\Omega) \\right\\}.\n",
    "\\end{split}\n",
    "\\end{equation*}\n",
    "\n",
    "\\begin{equation*}\n",
    "\\text{(W)} \\qquad \\text{Find } u \\in S \\text{ such that } a(u,v)=(f,v) + <h,v> \\forall v \\in V,\n",
    "\\end{equation*}\n",
    "where \n",
    "\n",
    "\\begin{equation}\n",
    "  <h,v>=\\int_{\\partial \\Gamma_{h}} h\\,v\\, dS.\n",
    "\\end{equation}"
   ]
  },
  {
   "cell_type": "markdown",
   "metadata": {
    "slideshow": {
     "slide_type": "subslide"
    }
   },
   "source": [
    "- Let $S^{h}$ and $V^{h}$ be finite-dimensional approximation to $S$ and $V$. \n",
    "- Assume for $\\forall v^{h} \\in V^{h}$, $v^{h}|_{\\Gamma_{g}}=0$. \n",
    "- Then, $u^{h} \\in S^{h} = v^{h} + g^{h}$ where $v^{h} \\in V^{h}$ and $g^{h} = g$ on $\\Gamma_{g}$ and 0 otherwise.\n",
    "\n",
    "Given $f$, $g$, and $h$ as in ($D$), \n",
    "\\begin{equation*}\n",
    "\\begin{split}\n",
    "& (\\text{W}_{h}) \\qquad \\text{Find } u^{h} \\in S^{h} \\text{ such that } \\\\\n",
    "& a(w^{h},v^{h})=(f,w^{h}) + <h,w^{h}> - (\\nabla g^{h}, \\nabla w^{h}) \\text{ for } \\forall w^{h} \\in V^{h}.\n",
    "\\end{split}\n",
    "\\end{equation*}"
   ]
  },
  {
   "cell_type": "markdown",
   "metadata": {
    "slideshow": {
     "slide_type": "subslide"
    }
   },
   "source": [
    "## Meaning of *finite-dimensional approximation*\n",
    "\n",
    "- Consider the Fourier expansion of $\\exp(x)$ for $x \\in [-\\pi,\\pi]$.\n",
    "\n",
    "$$\n",
    "e^x = \\frac{\\sinh(\\pi)}{\\pi} + \\sum_{n=1}^{\\infty} \\left[ \\frac{2 \\cos(n \\pi) \\sinh(\\pi)}{\\pi (1 + n^2)} \\cos(nx) - \\frac{2n \\cos(n \\pi) \\sinh(\\pi)}{\\pi (1 + n^2)} \\sin(nx) \\right].\n",
    "$$\n",
    "\n",
    "- The key point here is that the equality requires the infinite sum.\n",
    "    - If the sum on the right-hand side is truncated at a **finite number**, the expansion can only **approximate** the exponential function\n",
    "\n",
    "- Also recall the homework questions\n",
    "    - The Taylor seris expansion of $\\sin(\\pi x)$ about $x=0$\n",
    "    - The generalized Fourier series of $\\sin(\\pi x)$ with Legendre polynomials\n",
    "    \n",
    "- With only **finite** terms in these polynomial expansions, they can only **approximate** $\\sin(\\pi x)$.\n"
   ]
  },
  {
   "cell_type": "markdown",
   "metadata": {
    "slideshow": {
     "slide_type": "subslide"
    }
   },
   "source": [
    "### Example 1\n",
    "\n",
    "- Let's write down a cubic polynomial as $a_{0} + a_{1}x + a_{2}x^{2} + a_{3}x^{3}$.\n",
    "- The set of all the cubic polynomials, $P_{3}$, forms a (normed vector) function space (a.k.a. Hilbert space). \n",
    "    - with the L2 inner product, (f,g). \n",
    "    - Look up the web for all the properties required for this type of space!\n",
    "- $P_{3}$ is *infinite* in the sense that it has infinite elements: i.e., infinite choices for the coefficients, $a_{0}$, $a_{1}$, $a_{2}$, and $a_{3}$.\n",
    "- However, $P_{3}$ is **finite (four) dimensional** because any element function in $P_{3}$ can be exactly represented by **four basis functions**: $1$, $x$, $x^2$ and $x^3$; or $L_{0}$, $L_{1}$, $L_{2}$, and $L_{3}$ (Legendre functions); etc."
   ]
  },
  {
   "cell_type": "markdown",
   "metadata": {
    "slideshow": {
     "slide_type": "subslide"
    }
   },
   "source": [
    "### Example 2\n",
    "- $\\sin(\\pi x)$ in $[-1,1]$ can be exactly represented only with infinitely many basis functions. \n",
    "- In that sense, a function space that includes $\\sin(\\pi x)$ must have **infinite dimension**.\n",
    "    - However, $P_{3}[-1,1]$ can be a reasonable **finite dimensional approximation** to that function space."
   ]
  },
  {
   "cell_type": "markdown",
   "metadata": {
    "slideshow": {
     "slide_type": "subslide"
    }
   },
   "source": [
    "- The solution and test function spaces for the weak form,\n",
    "\n",
    "\\begin{equation*}\n",
    "\\begin{split}\n",
    "S &= \\left\\{ s | s = g\\ \\text{on}\\ \\Gamma_{g}\\ \\text{and}\\ s \\in H^{1}(\\Omega) \\right\\}, \\\\\n",
    "V &= \\left\\{ v | v \\in H^{1}_{0}(\\Omega) \\right\\},\n",
    "\\end{split}\n",
    "\\end{equation*}\n",
    "\n",
    "are **infinite dimensional** in the sense that element functions generally require infinitely many basis functions.\n",
    "\n",
    "- Now we understand what it means that **finite element method attemps to find approximate solution in finite dimensional subspaces, $S^{h}$ and $V^{h}$.**\n"
   ]
  }
 ],
 "metadata": {
  "celltoolbar": "Slideshow",
  "kernelspec": {
   "display_name": "Python 3 (ipykernel)",
   "language": "python",
   "name": "python3"
  },
  "language_info": {
   "codemirror_mode": {
    "name": "ipython",
    "version": 3
   },
   "file_extension": ".py",
   "mimetype": "text/x-python",
   "name": "python",
   "nbconvert_exporter": "python",
   "pygments_lexer": "ipython3",
   "version": "3.10.12"
  },
  "vscode": {
   "interpreter": {
    "hash": "916dbcbb3f70747c44a77c7bcd40155683ae19c65e1c03b4aa3499c5328201f1"
   }
  }
 },
 "nbformat": 4,
 "nbformat_minor": 4
}
